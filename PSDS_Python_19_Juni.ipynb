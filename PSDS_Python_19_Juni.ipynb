{
  "nbformat": 4,
  "nbformat_minor": 0,
  "metadata": {
    "colab": {
      "provenance": []
    },
    "kernelspec": {
      "name": "python3",
      "display_name": "Python 3"
    },
    "language_info": {
      "name": "python"
    }
  },
  "cells": [
    {
      "cell_type": "markdown",
      "source": [
        "# **Operator**\n",
        "Operator simbol simbol yang dapat digunakan untuk mengubah nilai dari satu variabel dengan melibatkan satu atau lebih variabel dan literal.\n",
        "1. Operator Aritmatika\n",
        "2. Operator Assignment\n",
        "3. Operator Pembanding\n",
        "4. Operator Logika\n",
        "5. Operator Membership"
      ],
      "metadata": {
        "id": "6aXitCbhDLbn"
      }
    },
    {
      "cell_type": "markdown",
      "source": [
        "## Operator Aritmatika\n",
        "Operator Aritmatika digunakan untuk melakukan operasimatematika yang umum.\n",
        "Macam-macam Operator Aritmatika, yaitu:\n",
        "\n",
        ". + : Penjumlahan\n",
        "\n",
        ". - : Pngurangan\n",
        "\n",
        ". * : Perkalian\n",
        "\n",
        ". / : Pembagian\n",
        "\n",
        "% : Modulus\n",
        "\n",
        "** : Perpangkatan\n",
        "\n",
        "// : Pembagian  dengan hasil pembulatan flooring\n",
        "\n"
      ],
      "metadata": {
        "id": "zYUb6EgcA9lx"
      }
    },
    {
      "cell_type": "markdown",
      "source": [
        "### Contoh Penggunaan Operator Aritmatika"
      ],
      "metadata": {
        "id": "q4D_gjS7DtZv"
      }
    },
    {
      "cell_type": "code",
      "source": [
        "#penjumlahan\n",
        "print('penjumlahan')\n",
        "print(2+2)\n",
        "#pengurangan\n",
        "print('pengurangan')\n",
        "print(2-3)\n",
        "#perkalian\n",
        "print('perkalian')\n",
        "print('-'*20)\n",
        "print(2*3)\n",
        "#pembagian\n",
        "print('pembagian')\n",
        "print('-'*20)\n",
        "print(2/3)\n",
        "#Modulus\n",
        "print('Modulus')\n",
        "print('-'*20)\n",
        "print(3%2)\n",
        "#Perpangkatan\n",
        "print('Perpangkatan')\n",
        "print('-'*20)\n",
        "print(2**3)\n",
        "#Pembagian dengan hasil pembulatan flooring\n",
        "print('Pembagian pembulatan flooring')\n",
        "print('-'*20)\n",
        "print(3//2)"
      ],
      "metadata": {
        "colab": {
          "base_uri": "https://localhost:8080/"
        },
        "id": "pvnnIG6bD1I-",
        "outputId": "f4db15a6-c427-4716-8da6-60cabdbfecf0"
      },
      "execution_count": 7,
      "outputs": [
        {
          "output_type": "stream",
          "name": "stdout",
          "text": [
            "penjumlahan\n",
            "4\n",
            "pengurangan\n",
            "-1\n",
            "perkalian\n",
            "--------------------\n",
            "6\n",
            "pembagian\n",
            "--------------------\n",
            "0.6666666666666666\n",
            "Modulus\n",
            "--------------------\n",
            "1\n",
            "Perpangkatan\n",
            "--------------------\n",
            "8\n",
            "Pembagian pembulatan flooring\n",
            "--------------------\n",
            "1\n"
          ]
        }
      ]
    },
    {
      "cell_type": "markdown",
      "source": [
        "### Latihan Operator 1"
      ],
      "metadata": {
        "id": "jNBH1ec1FAzO"
      }
    },
    {
      "cell_type": "markdown",
      "source": [
        "### Jawaban"
      ],
      "metadata": {
        "id": "Inf6C3o2B3oY"
      }
    },
    {
      "cell_type": "code",
      "source": [
        "#penjumlahan\n",
        "print('penjumlahan')\n",
        "print(3+8)\n",
        "#pengurangan\n",
        "print('pengurangan')\n",
        "print(3-8)\n",
        "#perkalian\n",
        "print('perkalian')\n",
        "print('-'*20)\n",
        "print(3*8)\n",
        "#pembagian\n",
        "print('pembagian')\n",
        "print('-'*20)\n",
        "print(3/8)\n",
        "#Modulus\n",
        "print('Modulus')\n",
        "print('-'*20)\n",
        "print(8%3)\n",
        "#Perpangkatan\n",
        "print('Perpangkatan')\n",
        "print('-'*20)\n",
        "print(8**3)\n",
        "#Pembagian dengan hasil pembulatan flooring\n",
        "print('Pembagian pembulatan flooring')\n",
        "print('-'*20)\n",
        "print(3//8)"
      ],
      "metadata": {
        "colab": {
          "base_uri": "https://localhost:8080/"
        },
        "id": "mjGsTaHTBxLt",
        "outputId": "79f72797-1476-4331-fbc5-0f98dfba3678"
      },
      "execution_count": 8,
      "outputs": [
        {
          "output_type": "stream",
          "name": "stdout",
          "text": [
            "penjumlahan\n",
            "11\n",
            "pengurangan\n",
            "-5\n",
            "perkalian\n",
            "--------------------\n",
            "24\n",
            "pembagian\n",
            "--------------------\n",
            "0.375\n",
            "Modulus\n",
            "--------------------\n",
            "2\n",
            "Perpangkatan\n",
            "--------------------\n",
            "512\n",
            "Pembagian pembulatan flooring\n",
            "--------------------\n",
            "0\n"
          ]
        }
      ]
    },
    {
      "cell_type": "markdown",
      "source": [
        "### Operator Assignment\n",
        "Operator Assignment digunakan untuk menyimpan nilai menjadi suatu variabel\n",
        "\n",
        "= : Contohnya x = 5 -> x = 5\n",
        "\n",
        "+= : Contohnya x = x + 5 -> x+=5\n",
        "\n",
        "-=: Contohnya x = x - 5 -> x -= 5\n",
        "\n",
        "*= : Contohnya x = x * 5 -> x *= 5\n",
        "\n",
        "/= : Contohnya x = x / 5 -> x /= 5\n",
        "\n",
        "%= : Contohnya x = x % 5 -> x %= 5\n",
        "\n",
        "// : Contohnya x = x // 5 -> x //= 5\n",
        "\n",
        "** : Contohnya x = x ** 5 -> **= 5"
      ],
      "metadata": {
        "id": "O2pquQPIFTxu"
      }
    },
    {
      "cell_type": "markdown",
      "source": [
        "###Contoh Penggunaan Operator Assignment"
      ],
      "metadata": {
        "id": "MtTcGTa2F2b_"
      }
    },
    {
      "cell_type": "code",
      "source": [
        "#Penjumlahan\n",
        "print('Penjumlahan')\n",
        "x = 5\n",
        "x = x+5\n",
        "print(x)\n",
        "x = 5\n",
        "x += 5\n",
        "print(x)\n",
        "print('-'*20)\n",
        "\n",
        "#Pengurangan\n",
        "print('Pengurangan')\n",
        "x=5\n",
        "x = x-5\n",
        "print(x)\n",
        "x=5\n",
        "x-=3\n",
        "print(x)\n",
        "print('-'*20)\n",
        "\n",
        "#Perkalian\n",
        "print('Perkalian')\n",
        "x=5\n",
        "x = x*5\n",
        "print(x)\n",
        "x=5\n",
        "x*=3\n",
        "print(x)\n",
        "print('-'*20)\n",
        "\n",
        "#Pembagian\n",
        "print('pembagian')\n",
        "x=5\n",
        "x = x/5\n",
        "print(x)\n",
        "x=5\n",
        "x/=3\n",
        "print(x)\n",
        "print('-'*20)\n",
        "\n",
        "#Modulus\n",
        "print('Modulus')\n",
        "x=5\n",
        "x=x%5\n",
        "print(x)\n",
        "x=5\n",
        "x%=3\n",
        "print(x)\n",
        "print('-'*20)\n",
        "\n",
        "#Pembagian Flooring\n",
        "print('Pembagian Flooring')\n",
        "x=5\n",
        "x=x//5\n",
        "print(x)\n",
        "x = 5\n",
        "x //=3\n",
        "print(x)\n",
        "print('-'*20)\n",
        "\n",
        "#Perpangkatan\n",
        "print('Perpangkatan')\n",
        "x=5\n",
        "x=x**5\n",
        "print(x)\n",
        "x=5\n",
        "x**=3\n",
        "print(x)\n",
        "print('-'*20)"
      ],
      "metadata": {
        "id": "YpLLUg-PF7qN",
        "colab": {
          "base_uri": "https://localhost:8080/"
        },
        "outputId": "e352f02c-d538-4871-f7d3-533b1ed62733"
      },
      "execution_count": 1,
      "outputs": [
        {
          "output_type": "stream",
          "name": "stdout",
          "text": [
            "Penjumlahan\n",
            "10\n",
            "10\n",
            "--------------------\n",
            "Pengurangan\n",
            "0\n",
            "2\n",
            "--------------------\n",
            "Perkalian\n",
            "25\n",
            "15\n",
            "--------------------\n",
            "pembagian\n",
            "1.0\n",
            "1.6666666666666667\n",
            "--------------------\n",
            "Modulus\n",
            "0\n",
            "2\n",
            "--------------------\n",
            "Pembagian Flooring\n",
            "1\n",
            "1\n",
            "--------------------\n",
            "Perpangkatan\n",
            "3125\n",
            "125\n",
            "--------------------\n"
          ]
        }
      ]
    },
    {
      "cell_type": "markdown",
      "source": [
        "### Latihan Operator 2"
      ],
      "metadata": {
        "id": "q7hlKe0PDYOJ"
      }
    },
    {
      "cell_type": "markdown",
      "source": [
        "###Jawaban"
      ],
      "metadata": {
        "id": "RPXrzVGEDeQP"
      }
    },
    {
      "cell_type": "code",
      "source": [
        "#Penjumlahan\n",
        "print('Penjumlahan')\n",
        "x = 2\n",
        "x = x+7\n",
        "print(x)\n",
        "x = 2\n",
        "x += 7\n",
        "print(x)\n",
        "print('-'*20)\n",
        "\n",
        "#Pengurangan\n",
        "print('Pengurangan')\n",
        "x=2\n",
        "x = x-7\n",
        "print(x)\n",
        "x=2\n",
        "x-=4\n",
        "print(x)\n",
        "print('-'*20)\n",
        "\n",
        "#Perkalian\n",
        "print('Perkalian')\n",
        "x=3\n",
        "x = x*7\n",
        "print(x)\n",
        "x=3\n",
        "x*=5\n",
        "print(x)\n",
        "print('-'*20)\n",
        "\n",
        "#Pembagian\n",
        "print('pembagian')\n",
        "x=6\n",
        "x = x/3\n",
        "print(x)\n",
        "x=6\n",
        "x/=4\n",
        "print(x)\n",
        "print('-'*20)\n",
        "\n",
        "#Modulus\n",
        "print('Modulus')\n",
        "x=7\n",
        "x=x%3\n",
        "print(x)\n",
        "x=7\n",
        "x%=3\n",
        "print(x)\n",
        "print('-'*20)\n",
        "\n",
        "#Pembagian Flooring\n",
        "print('Pembagian Flooring')\n",
        "x=7\n",
        "x=x//2\n",
        "print(x)\n",
        "x = 7\n",
        "x //= 2\n",
        "print(x)\n",
        "print('-'*20)\n",
        "\n",
        "#Perpangkatan\n",
        "print('Perpangkatan')\n",
        "x= 6\n",
        "x=x**3\n",
        "print(x)\n",
        "x=6\n",
        "x**=2\n",
        "print(x)\n",
        "print('-'*20)"
      ],
      "metadata": {
        "colab": {
          "base_uri": "https://localhost:8080/"
        },
        "id": "AaCmdxleDhNy",
        "outputId": "3724944f-b0cd-4a64-e419-6b425f9bb342"
      },
      "execution_count": 9,
      "outputs": [
        {
          "output_type": "stream",
          "name": "stdout",
          "text": [
            "Penjumlahan\n",
            "9\n",
            "9\n",
            "--------------------\n",
            "Pengurangan\n",
            "-5\n",
            "-2\n",
            "--------------------\n",
            "Perkalian\n",
            "21\n",
            "15\n",
            "--------------------\n",
            "pembagian\n",
            "2.0\n",
            "1.5\n",
            "--------------------\n",
            "Modulus\n",
            "1\n",
            "1\n",
            "--------------------\n",
            "Pembagian Flooring\n",
            "3\n",
            "3\n",
            "--------------------\n",
            "Perpangkatan\n",
            "216\n",
            "36\n",
            "--------------------\n"
          ]
        }
      ]
    },
    {
      "cell_type": "markdown",
      "source": [
        "###Operator Pembanding\n",
        "\n",
        "Operator Pembanding digunakan untuk membandingkan 2 nilai atau variabel Macam macam Operator pembanding:\n",
        "\n",
        " == -> samadengan\n",
        "\n",
        "  != -> tidak samadengan\n",
        "\n",
        ". > -> lebih dari\n",
        "\n",
        "  <  -> kurang dari\n",
        "\n",
        ". >= -> lebih dari dan sanadengan\n",
        "\n",
        "  <= kurang dari dan samadengan"
      ],
      "metadata": {
        "id": "XGT7f7JqDi_K"
      }
    },
    {
      "cell_type": "markdown",
      "source": [
        "###Contoh penggunaan operator pembanding"
      ],
      "metadata": {
        "id": "ROhqlns5D17W"
      }
    },
    {
      "cell_type": "code",
      "source": [
        "print(2==2)\n",
        "\n",
        "print(2!=2)\n",
        "\n",
        "print(2>2)\n",
        "\n",
        "print(2<2)\n",
        "\n",
        "print(2>=2)\n",
        "\n",
        "print(2<=2)"
      ],
      "metadata": {
        "colab": {
          "base_uri": "https://localhost:8080/"
        },
        "id": "8HanvHu6EHC-",
        "outputId": "97c7f9fd-744e-43ae-905f-ff6cc96e3010"
      },
      "execution_count": 2,
      "outputs": [
        {
          "output_type": "stream",
          "name": "stdout",
          "text": [
            "True\n",
            "False\n",
            "False\n",
            "False\n",
            "True\n",
            "True\n"
          ]
        }
      ]
    },
    {
      "cell_type": "markdown",
      "source": [
        "###Latihan Operator 3\n"
      ],
      "metadata": {
        "id": "O97Pg-BgEJiA"
      }
    },
    {
      "cell_type": "markdown",
      "source": [
        "###Jawaban"
      ],
      "metadata": {
        "id": "ySgl4t-kENPT"
      }
    },
    {
      "cell_type": "code",
      "source": [
        " print(5==3)\n",
        "\n",
        "print(5!=1)\n",
        "\n",
        "print(7>4)\n",
        "\n",
        "print(7<3)\n",
        "\n",
        "print(9>=4)\n",
        "\n",
        "print(8<=7)"
      ],
      "metadata": {
        "colab": {
          "base_uri": "https://localhost:8080/"
        },
        "id": "_tykjYdmEPOG",
        "outputId": "f48fd4b8-af22-4880-f677-9acd94eaaf17"
      },
      "execution_count": 10,
      "outputs": [
        {
          "output_type": "stream",
          "name": "stdout",
          "text": [
            "False\n",
            "True\n",
            "True\n",
            "False\n",
            "True\n",
            "False\n"
          ]
        }
      ]
    },
    {
      "cell_type": "markdown",
      "source": [
        "###Operator Logika\n",
        "\n",
        "Operator logika digunakan untuk mengkombinasikan statement statement kondisional\n",
        "\n",
        "Macam macam opertaor logika:\n",
        "\n",
        "and -> kondisi menjadi benar apabila semua statementnya benar\n",
        "\n",
        "or -> kondisi senjadi benar apabila salah satu statementnya ada yang benar\n",
        "\n",
        "not -> membalik hasil adri benar ke salah dan salah ke benar"
      ],
      "metadata": {
        "id": "tfFLCXUiERxz"
      }
    },
    {
      "cell_type": "markdown",
      "source": [
        "###Contoh penggunaan operator logika"
      ],
      "metadata": {
        "id": "qSXZl-m2Ega_"
      }
    },
    {
      "cell_type": "code",
      "source": [
        "print(True and False)\n",
        "\n",
        "print(False or False)\n",
        "\n",
        "print (not False and True)"
      ],
      "metadata": {
        "colab": {
          "base_uri": "https://localhost:8080/"
        },
        "id": "4XdmXFU7ElFe",
        "outputId": "27b3d721-b5d5-4abb-8adb-95881da6628e"
      },
      "execution_count": 3,
      "outputs": [
        {
          "output_type": "stream",
          "name": "stdout",
          "text": [
            "False\n",
            "False\n",
            "True\n"
          ]
        }
      ]
    },
    {
      "cell_type": "markdown",
      "source": [
        "###Latihan Operator 4"
      ],
      "metadata": {
        "id": "KmlULEsTEper"
      }
    },
    {
      "cell_type": "markdown",
      "source": [
        "###Jawaban"
      ],
      "metadata": {
        "id": "6b7LRgmWEyxt"
      }
    },
    {
      "cell_type": "code",
      "source": [
        "print(False and False)\n",
        "\n",
        "print(True or not True)\n",
        "\n",
        "print (False and not True)"
      ],
      "metadata": {
        "colab": {
          "base_uri": "https://localhost:8080/"
        },
        "id": "gXQCx3rVEwBb",
        "outputId": "498138fd-61c2-4340-867e-dad5c0c403a9"
      },
      "execution_count": 11,
      "outputs": [
        {
          "output_type": "stream",
          "name": "stdout",
          "text": [
            "False\n",
            "True\n",
            "False\n"
          ]
        }
      ]
    },
    {
      "cell_type": "markdown",
      "source": [
        "###Operator Membership/ Keanggotaan\n",
        "\n",
        "Operator keanggotaan digunakan untuk menguji apakah urutan disajikan dalam suatu objek\n",
        "\n",
        "Macam macam operator Keanggotaan:\n",
        "\n",
        "in -> return True ketika nilai tertentu dalam sebuah urutan ada\n",
        "\n",
        "not in -> return True ketika nilai tertentu dalam sebuah urutan tidak ada"
      ],
      "metadata": {
        "id": "Dhonmz5aE-Zq"
      }
    },
    {
      "cell_type": "markdown",
      "source": [
        "###Contoh penggunaan operator keanggotaan\n"
      ],
      "metadata": {
        "id": "ggiILcQoFLjm"
      }
    },
    {
      "cell_type": "code",
      "source": [
        "a=(1,2,3,4,5,6)\n",
        "b=2\n",
        "\n",
        "print(b in a)\n",
        "\n",
        "print('-' *20)\n",
        "a=(1,2,3,4,5,6)\n",
        "b=7\n",
        "print(b not in a)"
      ],
      "metadata": {
        "colab": {
          "base_uri": "https://localhost:8080/"
        },
        "id": "GoYuSTxZFPwi",
        "outputId": "c34d053a-cb97-4b08-f357-018c9d6366f3"
      },
      "execution_count": 4,
      "outputs": [
        {
          "output_type": "stream",
          "name": "stdout",
          "text": [
            "True\n",
            "--------------------\n",
            "True\n"
          ]
        }
      ]
    },
    {
      "cell_type": "markdown",
      "source": [
        "###Latihan Operator 5"
      ],
      "metadata": {
        "id": "IRlQ0vbJFiX-"
      }
    },
    {
      "cell_type": "markdown",
      "source": [
        "###Jawaban"
      ],
      "metadata": {
        "id": "bUIaIDwXFmVU"
      }
    },
    {
      "cell_type": "code",
      "source": [
        "x=(6,9,3,2,4)\n",
        "y=1\n",
        "\n",
        "print(y in x)\n",
        "\n",
        "print('-' *20)\n",
        "y=(5,8,1,3,6)\n",
        "x=8\n",
        "print(x not in y)"
      ],
      "metadata": {
        "colab": {
          "base_uri": "https://localhost:8080/"
        },
        "id": "WqRzJlKZFomR",
        "outputId": "ba2f3efd-ee1d-4792-b54d-b3b6a4a786f5"
      },
      "execution_count": 12,
      "outputs": [
        {
          "output_type": "stream",
          "name": "stdout",
          "text": [
            "False\n",
            "--------------------\n",
            "False\n"
          ]
        }
      ]
    },
    {
      "cell_type": "markdown",
      "source": [
        "###**Variabel**\n",
        "\n",
        "Variabel: Lokal penyimpanan yang dapat digunakan untuk menampung sebuah data atau inform\n",
        "\n",
        "Syarat syarat penamaan variabel\n",
        "\n",
        "1. Karakter-karakter yang digunakan untuk penamaan variable adalah alphabet, angka dan underscore\n",
        "2. Karakter pertama variabel harus berupa huruf atau garis bawah/underscore, dan tidak bisa berupa angka\n",
        "3. Nama sebuah variabel tidak bisa menggunakan keyword atau reserved words dari bahasa python seperti for, if dan lainnya\n",
        "4. Karakter pada nama variabel bersifat sensitif (case-sensitif)"
      ],
      "metadata": {
        "id": "3nCYuJf8FpXy"
      }
    },
    {
      "cell_type": "code",
      "source": [
        "# membuat variabel\n",
        "kalimat = 'ini adalah variabel'\n",
        "bilangan1 = 4\n",
        "bilangan2 = 2.5\n",
        "bilangan3 = True\n",
        "bilangan4 = 1j + 4\n",
        "\n",
        "#menampilkan variabel\n",
        "print(kalimat)\n",
        "print(bilangan1)\n",
        "print(bilangan2)\n",
        "print(bilangan3)\n",
        "print(bilangan4)"
      ],
      "metadata": {
        "colab": {
          "base_uri": "https://localhost:8080/"
        },
        "id": "C8Uhl4PmGYy0",
        "outputId": "c68fe844-bd59-4a14-e6a2-d7b453f323c9"
      },
      "execution_count": 6,
      "outputs": [
        {
          "output_type": "stream",
          "name": "stdout",
          "text": [
            "ini adalah variabel\n",
            "4\n",
            "2.5\n",
            "True\n",
            "(4+1j)\n"
          ]
        }
      ]
    },
    {
      "cell_type": "markdown",
      "source": [
        "###Latihan 1"
      ],
      "metadata": {
        "id": "J8FOn0-pGoMW"
      }
    },
    {
      "cell_type": "markdown",
      "source": [
        "###Jawaban"
      ],
      "metadata": {
        "id": "glOZ9oDyGqM5"
      }
    },
    {
      "cell_type": "code",
      "source": [
        "# membuat variabel\n",
        "buah = 'ada satu apel'\n",
        "tipe1 = 8\n",
        "tipe2 = 3.7\n",
        "tipe3 = not True\n",
        "tipe4 = 3j + 2\n",
        "\n",
        "# menampilkan variabel\n",
        "print(buah)\n",
        "print(tipe1)\n",
        "print(tipe2)\n",
        "print(tipe3)\n",
        "print(tipe4)"
      ],
      "metadata": {
        "colab": {
          "base_uri": "https://localhost:8080/"
        },
        "id": "TXa4E7CtGsBz",
        "outputId": "2ae8f082-1727-4237-c140-7cb955904b2a"
      },
      "execution_count": 14,
      "outputs": [
        {
          "output_type": "stream",
          "name": "stdout",
          "text": [
            "ada satu apel\n",
            "8\n",
            "3.7\n",
            "False\n",
            "(2+3j)\n"
          ]
        }
      ]
    },
    {
      "cell_type": "markdown",
      "source": [
        "### **Tipe Data dan Konversi Data**\n",
        "\n",
        "####Tipe Data\n",
        "\n",
        "5 tipe data yaitu\n",
        "\n",
        "1. Integer atau bilangan bulat\n",
        "\n",
        "2. Float atau bilangan desimal\n",
        "\n",
        "3. string atau kalimat\n",
        "\n",
        "4. Boolean yang terdiri dari True dan False\n",
        "\n",
        "5. Complex yang merupakan bilangan kompleks\n"
      ],
      "metadata": {
        "id": "FHIzk2mH_FqK"
      }
    },
    {
      "cell_type": "code",
      "execution_count": 15,
      "metadata": {
        "colab": {
          "base_uri": "https://localhost:8080/"
        },
        "id": "uqq_GJig-2C8",
        "outputId": "0c7102e9-49c5-4787-b6a4-29c3761bcdfc"
      },
      "outputs": [
        {
          "output_type": "stream",
          "name": "stdout",
          "text": [
            "<class 'str'>\n",
            "<class 'int'>\n",
            "<class 'float'>\n",
            "<class 'bool'>\n",
            "<class 'complex'>\n"
          ]
        }
      ],
      "source": [
        "# menampilkan tipe data\n",
        "print(type(kalimat))\n",
        "print(type(bilangan1))\n",
        "print(type(bilangan2))\n",
        "print(type(bilangan3))\n",
        "print(type(bilangan4))"
      ]
    },
    {
      "cell_type": "markdown",
      "source": [
        "###Latihan 2"
      ],
      "metadata": {
        "id": "o1ofPQAgHECi"
      }
    },
    {
      "cell_type": "markdown",
      "source": [
        "###Jawaban"
      ],
      "metadata": {
        "id": "MIgC2QGOHGvJ"
      }
    },
    {
      "cell_type": "code",
      "source": [
        "# menampilkan tipe data\n",
        "print(type(buah))\n",
        "print(type(tipe1))\n",
        "print(type(tipe2))\n",
        "print(type(tipe3))\n",
        "print(type(tipe4))"
      ],
      "metadata": {
        "colab": {
          "base_uri": "https://localhost:8080/"
        },
        "id": "67DTL03vHIar",
        "outputId": "f988703b-c6d3-457c-80ba-f0b86b976d27"
      },
      "execution_count": 16,
      "outputs": [
        {
          "output_type": "stream",
          "name": "stdout",
          "text": [
            "<class 'str'>\n",
            "<class 'int'>\n",
            "<class 'float'>\n",
            "<class 'bool'>\n",
            "<class 'complex'>\n"
          ]
        }
      ]
    },
    {
      "cell_type": "markdown",
      "source": [
        "###Konversi Tipe Data"
      ],
      "metadata": {
        "id": "Lr7HS5jeAelu"
      }
    },
    {
      "cell_type": "code",
      "source": [
        "# konversi tipe data integer\n",
        "print(int(bilangan1))\n",
        "print(int(bilangan2))"
      ],
      "metadata": {
        "colab": {
          "base_uri": "https://localhost:8080/"
        },
        "id": "ypPBZFGTB12e",
        "outputId": "e2f9db97-8f73-40c9-c266-bb2391f1ea19"
      },
      "execution_count": 19,
      "outputs": [
        {
          "output_type": "stream",
          "name": "stdout",
          "text": [
            "4\n",
            "2\n"
          ]
        }
      ]
    },
    {
      "cell_type": "code",
      "source": [
        "# konversi tipe data float\n",
        "print(float(bilangan1))\n",
        "print(float(bilangan2))"
      ],
      "metadata": {
        "colab": {
          "base_uri": "https://localhost:8080/"
        },
        "id": "zTFZomGyB-3y",
        "outputId": "65b81720-f2a8-4138-c21c-92b998001055"
      },
      "execution_count": 20,
      "outputs": [
        {
          "output_type": "stream",
          "name": "stdout",
          "text": [
            "4.0\n",
            "2.5\n"
          ]
        }
      ]
    },
    {
      "cell_type": "code",
      "source": [
        "# konversi tipe data string\n",
        "print(str(bilangan1))\n",
        "print(str(bilangan2))\n",
        "print(str(bilangan3))"
      ],
      "metadata": {
        "colab": {
          "base_uri": "https://localhost:8080/"
        },
        "id": "pbKRGcYwCTgI",
        "outputId": "14f5b4e4-08e3-44c0-875f-8add15ed47f4"
      },
      "execution_count": null,
      "outputs": [
        {
          "output_type": "stream",
          "name": "stdout",
          "text": [
            "4\n",
            "2.5\n",
            "True\n"
          ]
        }
      ]
    },
    {
      "cell_type": "code",
      "source": [
        "# konversi tipe data bool\n",
        "print(bool(bilangan1))\n",
        "print(bool(bilangan2))"
      ],
      "metadata": {
        "colab": {
          "base_uri": "https://localhost:8080/"
        },
        "id": "nrcMSzKNCgct",
        "outputId": "c56a58e8-b75b-4a48-d59a-b312d1f38164"
      },
      "execution_count": null,
      "outputs": [
        {
          "output_type": "stream",
          "name": "stdout",
          "text": [
            "True\n",
            "True\n"
          ]
        }
      ]
    },
    {
      "cell_type": "code",
      "source": [
        "# konversi tipe data complex\n",
        "print(complex(bilangan1))\n",
        "print(complex(bilangan2))\n",
        "print(complex(bilangan3))"
      ],
      "metadata": {
        "colab": {
          "base_uri": "https://localhost:8080/"
        },
        "id": "q88FRj3XAkLK",
        "outputId": "4b377203-69c8-4239-d4f1-8955148bf46f"
      },
      "execution_count": null,
      "outputs": [
        {
          "output_type": "stream",
          "name": "stdout",
          "text": [
            "(4+0j)\n",
            "(2.5+0j)\n",
            "(1+0j)\n"
          ]
        }
      ]
    },
    {
      "cell_type": "markdown",
      "source": [
        "###Latihan 3"
      ],
      "metadata": {
        "id": "wOimN3PsHwLU"
      }
    },
    {
      "cell_type": "markdown",
      "source": [
        "###Jawaban"
      ],
      "metadata": {
        "id": "v_kNTz02HyLw"
      }
    },
    {
      "cell_type": "code",
      "source": [
        "# konversi tipe data integer\n",
        "print(int(tipe1))\n",
        "print(int(tipe2))\n",
        "\n",
        "print('-'*20)\n",
        "# konversi tipe data float\n",
        "print(float(tipe1))\n",
        "print(float(tipe2))\n",
        "\n",
        "print('-'*20)\n",
        "# konversi tipe data string\n",
        "print(str(tipe1))\n",
        "print(str(tipe2))\n",
        "print(str(tipe3))\n",
        "\n",
        "print('-'*20)\n",
        "# konversi tipe data bool\n",
        "print(bool(tipe1))\n",
        "print(bool(tipe2))\n",
        "\n",
        "print('-'*20)\n",
        "# konversi tipe data complex\n",
        "print(complex(tipe1))\n",
        "print(complex(tipe2))\n",
        "print(complex(tipe3))"
      ],
      "metadata": {
        "colab": {
          "base_uri": "https://localhost:8080/"
        },
        "id": "upVuWOzxH0YW",
        "outputId": "919fa072-856d-4175-f38d-d9575497f13b"
      },
      "execution_count": 22,
      "outputs": [
        {
          "output_type": "stream",
          "name": "stdout",
          "text": [
            "8\n",
            "3\n",
            "--------------------\n",
            "8.0\n",
            "3.7\n",
            "--------------------\n",
            "8\n",
            "3.7\n",
            "False\n",
            "--------------------\n",
            "True\n",
            "True\n",
            "--------------------\n",
            "(8+0j)\n",
            "(3.7+0j)\n",
            "0j\n"
          ]
        }
      ]
    }
  ]
}