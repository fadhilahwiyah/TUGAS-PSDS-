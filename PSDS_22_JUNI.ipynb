{
  "nbformat": 4,
  "nbformat_minor": 0,
  "metadata": {
    "colab": {
      "provenance": []
    },
    "kernelspec": {
      "name": "python3",
      "display_name": "Python 3"
    },
    "language_info": {
      "name": "python"
    }
  },
  "cells": [
    {
      "cell_type": "markdown",
      "source": [
        "###List\n",
        "List adalah jenis kumpulan data terurut(ordered sequence), bisa diubah elemennya(mutable), bisa ditambahkan elemen baru atau menghapus elemen(changeable), dan merupakan salah satu variabel yang sering digunakan untuk Python. Serupa, namun tak sama dengan array pada bahasa pemrograman lainnya. Bedanya, elemen List pada Python tidak harus memiliki tipe data yang sama. Mendeklarasikan List cukup mudah dengan kurung siku dan elemen dipisahkan dengan koma.\n",
        "\n",
        "Setiap data di dalamnya bdapat diakses dengan indeks yang mulai dari 0.\n"
      ],
      "metadata": {
        "id": "ubgniy3SXX4k"
      }
    },
    {
      "cell_type": "code",
      "execution_count": 2,
      "metadata": {
        "id": "gyUPJBsJPnvi",
        "colab": {
          "base_uri": "https://localhost:8080/"
        },
        "outputId": "364197ae-5273-428a-b92d-e1c52de9faf1"
      },
      "outputs": [
        {
          "output_type": "stream",
          "name": "stdout",
          "text": [
            "<class 'list'>\n"
          ]
        }
      ],
      "source": [
        "#Contoh List\n",
        "L1 = [1,4,2,13]\n",
        "print(type(L1))"
      ]
    },
    {
      "cell_type": "code",
      "source": [
        "L2 =['a','python',3]\n",
        "print(L2)\n",
        "print(type(L2))"
      ],
      "metadata": {
        "colab": {
          "base_uri": "https://localhost:8080/"
        },
        "id": "U7-CvJCWXz35",
        "outputId": "535402cd-be2f-41f8-9a55-c003a00f31c0"
      },
      "execution_count": 3,
      "outputs": [
        {
          "output_type": "stream",
          "name": "stdout",
          "text": [
            "['a', 'python', 3]\n",
            "<class 'list'>\n"
          ]
        }
      ]
    },
    {
      "cell_type": "code",
      "source": [
        "print(L1)\n",
        "print(L2)"
      ],
      "metadata": {
        "colab": {
          "base_uri": "https://localhost:8080/"
        },
        "id": "j6Xz0EHzTo86",
        "outputId": "51483fcf-902a-4cd0-973d-7af1e6d164ba"
      },
      "execution_count": 4,
      "outputs": [
        {
          "output_type": "stream",
          "name": "stdout",
          "text": [
            "[1, 4, 2, 13]\n",
            "['a', 'python', 3]\n"
          ]
        }
      ]
    },
    {
      "cell_type": "markdown",
      "source": [
        "Indeks di Python(List, Tuple) mulai dari 0"
      ],
      "metadata": {
        "id": "bEP3OlpLTutj"
      }
    },
    {
      "cell_type": "code",
      "source": [
        "#Sifat-sifat list\n",
        "\n",
        "L1=[1, 'dua', True, 2+3j]\n",
        "#Terurut/Ordered\n",
        "print('Memanggil List L1 dengan indeks urutan', L1[0:3])\n",
        "\n",
        "\n",
        "#Bisa diganti/Mutable\n",
        "L1[1]=2\n",
        "print('List L1 setelah diubah', L1)\n",
        "\n",
        "L1=[1, 'dua', True, 2+3j]\n",
        "\n",
        "L1=[1, 'dua', True, 2+3j]\n",
        "#Dapat Diindeks/Slicing\n",
        "print('Slicing List L1:' , L1[3])\n",
        "\n",
        "#Dapat Diijinkan Duplikasi\n",
        "L1=[1, 'dua', True, 2+3j, 2+3j]\n",
        "print('Duplikasi pada list L1:', L1)\n",
        "\n",
        "#Dapat mengubah data dengan mengganti elemen tertentu\n",
        "L1=[1, 'dua', True, 2+3j, 2+3j]\n",
        "L1[2]=3\n",
        "\n",
        "#Dapat menambahkan elemen baru pada data\n",
        "L1=[1, 'dua', True, 2+3j]\n",
        "L1.append(20)\n",
        "print('Data setelah ditambahkan elemennya:',L1)\n",
        "\n",
        "#Dapat menghapus elemen pada data(remove() = menghapus berdasarkan nama objek)\n",
        "L1=[1, 'dua', True, 2+3j]\n",
        "L1.remove(2+3j)\n",
        "print('Data setelah dihapus elemennya:',L1)\n"
      ],
      "metadata": {
        "colab": {
          "base_uri": "https://localhost:8080/"
        },
        "id": "xRqR5JFdX68r",
        "outputId": "6799bdf3-87e8-42ac-ac8a-9bfdcddbb08f"
      },
      "execution_count": 5,
      "outputs": [
        {
          "output_type": "stream",
          "name": "stdout",
          "text": [
            "Memanggil List L1 dengan indeks urutan [1, 'dua', True]\n",
            "List L1 setelah diubah [1, 2, True, (2+3j)]\n",
            "Slicing List L1: (2+3j)\n",
            "Duplikasi pada list L1: [1, 'dua', True, (2+3j), (2+3j)]\n",
            "Data setelah ditambahkan elemennya: [1, 'dua', True, (2+3j), 20]\n",
            "Data setelah dihapus elemennya: [1, 'dua', True]\n"
          ]
        }
      ]
    },
    {
      "cell_type": "code",
      "source": [
        "#menambahkan data menggunakan fungsi extend(menambahkan elemen baru pada list namun elemen tersebut ditambahkan secara individu)\n",
        "\n",
        "L1=[1, 'dua', True, 2+3j]\n",
        "L1.extend('nanas')\n",
        "print(L1)"
      ],
      "metadata": {
        "colab": {
          "base_uri": "https://localhost:8080/"
        },
        "id": "nT_lCngraIa1",
        "outputId": "6a089ce0-279f-4101-a2d7-0a1c644f940b"
      },
      "execution_count": 6,
      "outputs": [
        {
          "output_type": "stream",
          "name": "stdout",
          "text": [
            "[1, 'dua', True, (2+3j), 'n', 'a', 'n', 'a', 's']\n"
          ]
        }
      ]
    },
    {
      "cell_type": "code",
      "source": [
        "L1=[1, 'dua', True, 2+3j]\n",
        "L1.extend(['nanas'])\n",
        "print(L1)"
      ],
      "metadata": {
        "colab": {
          "base_uri": "https://localhost:8080/"
        },
        "id": "2SJgreL8c5B6",
        "outputId": "9d0c0820-1db2-4f41-e8c7-058b912ad488"
      },
      "execution_count": 7,
      "outputs": [
        {
          "output_type": "stream",
          "name": "stdout",
          "text": [
            "[1, 'dua', True, (2+3j), 'nanas']\n"
          ]
        }
      ]
    },
    {
      "cell_type": "code",
      "source": [
        "#menambahkan data menggunakan fungsi insert(menambahkan elemen baru di list pada indeks tertentu)\n",
        "\n",
        "L1=[1, 'dua', True, 2+3j]\n",
        "L1.insert(2,5)\n",
        "print(L1)"
      ],
      "metadata": {
        "colab": {
          "base_uri": "https://localhost:8080/"
        },
        "id": "mtq1pSEzalfM",
        "outputId": "03ae0ac8-c300-42f4-81f8-a9fdd16bcb00"
      },
      "execution_count": 8,
      "outputs": [
        {
          "output_type": "stream",
          "name": "stdout",
          "text": [
            "[1, 'dua', 5, True, (2+3j)]\n"
          ]
        }
      ]
    },
    {
      "cell_type": "code",
      "source": [
        "#menambahkan elemen dari list menggunakan fungsi pop()(menghapus berdasarkan berdasarkan indeks)\n",
        "L1=[1, 'dua', True, 2+3j]\n",
        "L1.pop(2)\n",
        "print(L1)"
      ],
      "metadata": {
        "colab": {
          "base_uri": "https://localhost:8080/"
        },
        "id": "2RHED9QQa6ov",
        "outputId": "b58c9dd8-7175-483a-f394-b24e213bd2af"
      },
      "execution_count": 9,
      "outputs": [
        {
          "output_type": "stream",
          "name": "stdout",
          "text": [
            "[1, 'dua', (2+3j)]\n"
          ]
        }
      ]
    },
    {
      "cell_type": "markdown",
      "source": [
        "###Latihan 1\n",
        "buat list kalian sendiri"
      ],
      "metadata": {
        "id": "ALh5D8O8bZbl"
      }
    },
    {
      "cell_type": "code",
      "source": [
        "L3=[not True, 'apel', 3, 3j+1, 2.8, 5, 'empat']\n",
        "print(L3)"
      ],
      "metadata": {
        "colab": {
          "base_uri": "https://localhost:8080/"
        },
        "id": "FlLTwLVCbWk8",
        "outputId": "dc92a030-b7f8-4810-8805-46fc269d7588"
      },
      "execution_count": 13,
      "outputs": [
        {
          "output_type": "stream",
          "name": "stdout",
          "text": [
            "[False, 'apel', 3, (1+3j), 2.8, 5, 'empat']\n"
          ]
        }
      ]
    },
    {
      "cell_type": "markdown",
      "source": [
        "###Latihan 2\n",
        "ganti elemen di list"
      ],
      "metadata": {
        "id": "Gx4uvS26bqJi"
      }
    },
    {
      "cell_type": "code",
      "source": [
        "L3=[not True, 'apel', 3, 3j+1, 2.8, 5, 'empat']\n",
        "L3[3]=5\n",
        "print(L3)\n",
        "\n",
        "L3.append(96)\n",
        "print(L3)\n",
        "\n",
        "L3.pop(0)\n",
        "print(L3)\n",
        "\n",
        "L3.extend([True])\n",
        "print(L3)\n",
        "\n",
        "L3[3]=10\n",
        "print(L3)"
      ],
      "metadata": {
        "id": "ERKVfUBfbsYA",
        "colab": {
          "base_uri": "https://localhost:8080/"
        },
        "outputId": "ab2a49ed-1d1b-4939-d086-a4d5ee005877"
      },
      "execution_count": 26,
      "outputs": [
        {
          "output_type": "stream",
          "name": "stdout",
          "text": [
            "[False, 'apel', 3, 5, 2.8, 5, 'empat']\n",
            "[False, 'apel', 3, 5, 2.8, 5, 'empat', 96]\n",
            "['apel', 3, 5, 2.8, 5, 'empat', 96]\n",
            "['apel', 3, 5, 2.8, 5, 'empat', 96, True]\n",
            "['apel', 3, 5, 10, 5, 'empat', 96, True]\n"
          ]
        }
      ]
    },
    {
      "cell_type": "markdown",
      "source": [
        "###Struktur Data Tuple\n",
        "Tuple adalah jenis dari struktur data yang tidak dapat diubah elemennya dan juga tidak bisa ditambahkan atau dihapus elemennya. Umumnya tuple digunakan untuk data yang bersifat sekali tulis, dan dapat dieksekusi lebih cepat. Tuple didefinisikan dengan kurung dan elemen yang dipisahkan dengan koma/"
      ],
      "metadata": {
        "id": "7a5z80mIehvQ"
      }
    },
    {
      "cell_type": "code",
      "source": [
        "#Contoh Tuple\n",
        "T1=(1,'dua',True, 1+2j)\n",
        "print('ini adalah tuple', T1)"
      ],
      "metadata": {
        "colab": {
          "base_uri": "https://localhost:8080/"
        },
        "id": "o3Fw-XWXentv",
        "outputId": "e9d69ef9-d5bc-4e39-a056-26fcaf8792c5"
      },
      "execution_count": 27,
      "outputs": [
        {
          "output_type": "stream",
          "name": "stdout",
          "text": [
            "ini adalah tuple (1, 'dua', True, (1+2j))\n"
          ]
        }
      ]
    },
    {
      "cell_type": "code",
      "source": [
        "T11=1,'dua',True,1+2j\n",
        "print('ini adalah tuple',T11)"
      ],
      "metadata": {
        "colab": {
          "base_uri": "https://localhost:8080/"
        },
        "id": "S_VuadR6ez92",
        "outputId": "11399f01-7f98-4eb6-9833-92a38bb79a70"
      },
      "execution_count": 28,
      "outputs": [
        {
          "output_type": "stream",
          "name": "stdout",
          "text": [
            "ini adalah tuple (1, 'dua', True, (1+2j))\n"
          ]
        }
      ]
    },
    {
      "cell_type": "code",
      "source": [
        "#Menampilkan tipe struktur data\n",
        "type(T1)"
      ],
      "metadata": {
        "colab": {
          "base_uri": "https://localhost:8080/"
        },
        "id": "0srVR5KNXdPo",
        "outputId": "7258338b-f5f8-4ae6-f7d4-8df35ac6d9b8"
      },
      "execution_count": 29,
      "outputs": [
        {
          "output_type": "execute_result",
          "data": {
            "text/plain": [
              "tuple"
            ]
          },
          "metadata": {},
          "execution_count": 29
        }
      ]
    },
    {
      "cell_type": "markdown",
      "source": [
        "###**Sifat-sifat Tuple**"
      ],
      "metadata": {
        "id": "vetLITs5e-nK"
      }
    },
    {
      "cell_type": "code",
      "source": [
        "#Terurut/Ordered\n",
        "T1=(1, 'dua', True)\n",
        "print(T1[0:3])"
      ],
      "metadata": {
        "colab": {
          "base_uri": "https://localhost:8080/"
        },
        "id": "32cEkTeRfEjc",
        "outputId": "c263b824-16d9-4f01-9753-13e91d88683a"
      },
      "execution_count": null,
      "outputs": [
        {
          "output_type": "stream",
          "name": "stdout",
          "text": [
            "(1, 'dua', True)\n"
          ]
        }
      ]
    },
    {
      "cell_type": "code",
      "source": [
        "#Tidak bisa diganti/Immutable\n",
        "T1[2]='manusia'"
      ],
      "metadata": {
        "id": "nyMC6d9ffIvq",
        "colab": {
          "base_uri": "https://localhost:8080/",
          "height": 183
        },
        "outputId": "16bb93c4-f7ce-4026-e55c-9879c580e17a"
      },
      "execution_count": 30,
      "outputs": [
        {
          "output_type": "error",
          "ename": "TypeError",
          "evalue": "ignored",
          "traceback": [
            "\u001b[0;31m---------------------------------------------------------------------------\u001b[0m",
            "\u001b[0;31mTypeError\u001b[0m                                 Traceback (most recent call last)",
            "\u001b[0;32m<ipython-input-30-b19a3428a90a>\u001b[0m in \u001b[0;36m<cell line: 2>\u001b[0;34m()\u001b[0m\n\u001b[1;32m      1\u001b[0m \u001b[0;31m#Tidak bisa diganti/Immutable\u001b[0m\u001b[0;34m\u001b[0m\u001b[0;34m\u001b[0m\u001b[0m\n\u001b[0;32m----> 2\u001b[0;31m \u001b[0mT1\u001b[0m\u001b[0;34m[\u001b[0m\u001b[0;36m2\u001b[0m\u001b[0;34m]\u001b[0m\u001b[0;34m=\u001b[0m\u001b[0;34m'manusia'\u001b[0m\u001b[0;34m\u001b[0m\u001b[0;34m\u001b[0m\u001b[0m\n\u001b[0m",
            "\u001b[0;31mTypeError\u001b[0m: 'tuple' object does not support item assignment"
          ]
        }
      ]
    },
    {
      "cell_type": "code",
      "source": [
        "#Dapat Dislicing\n",
        "print('elemen kedua dari tuple T1 adalah:', T1[1])"
      ],
      "metadata": {
        "id": "AJM3VRJffOVc",
        "colab": {
          "base_uri": "https://localhost:8080/"
        },
        "outputId": "c06fceba-054b-4cdb-ee56-eff6ac3e5de9"
      },
      "execution_count": 31,
      "outputs": [
        {
          "output_type": "stream",
          "name": "stdout",
          "text": [
            "elemen kedua dari tuple T1 adalah: dua\n"
          ]
        }
      ]
    },
    {
      "cell_type": "code",
      "source": [
        "#Dapat Diijinkan Duplikasi\n",
        "T2=(3,2.4,True,2.4)\n",
        "T2"
      ],
      "metadata": {
        "colab": {
          "base_uri": "https://localhost:8080/"
        },
        "id": "JRcLieqHf8ir",
        "outputId": "8f4d5b2b-1537-4d21-d676-84a34ff967ed"
      },
      "execution_count": 35,
      "outputs": [
        {
          "output_type": "execute_result",
          "data": {
            "text/plain": [
              "(3, 2.4, True, 2.4)"
            ]
          },
          "metadata": {},
          "execution_count": 35
        }
      ]
    },
    {
      "cell_type": "code",
      "source": [
        "#tidak dapat menambahkan elemen baru\n",
        "T1=(1,'dua',True,1+2j)\n",
        "print(f' tuple\\t: {T1}')"
      ],
      "metadata": {
        "colab": {
          "base_uri": "https://localhost:8080/"
        },
        "id": "om1_6w1zgM0t",
        "outputId": "0c64d517-ecfc-4f71-bfb0-c7779032dfd6"
      },
      "execution_count": null,
      "outputs": [
        {
          "output_type": "stream",
          "name": "stdout",
          "text": [
            " tuple\t: (1, 'dua', True, (1+2j))\n"
          ]
        }
      ]
    },
    {
      "cell_type": "code",
      "source": [
        "T1.append(10)\n",
        "T1.append(50)\n",
        "print(f' tuple\\t: {T1}')"
      ],
      "metadata": {
        "colab": {
          "base_uri": "https://localhost:8080/",
          "height": 200
        },
        "id": "nm-4r7YIgtwP",
        "outputId": "9cccc940-1e0a-4971-83fa-13fcc0a5d124"
      },
      "execution_count": null,
      "outputs": [
        {
          "output_type": "error",
          "ename": "AttributeError",
          "evalue": "ignored",
          "traceback": [
            "\u001b[0;31m---------------------------------------------------------------------------\u001b[0m",
            "\u001b[0;31mAttributeError\u001b[0m                            Traceback (most recent call last)",
            "\u001b[0;32m<ipython-input-21-5498d5de3a6d>\u001b[0m in \u001b[0;36m<cell line: 1>\u001b[0;34m()\u001b[0m\n\u001b[0;32m----> 1\u001b[0;31m \u001b[0mT1\u001b[0m\u001b[0;34m.\u001b[0m\u001b[0mappend\u001b[0m\u001b[0;34m(\u001b[0m\u001b[0;36m10\u001b[0m\u001b[0;34m)\u001b[0m\u001b[0;34m\u001b[0m\u001b[0;34m\u001b[0m\u001b[0m\n\u001b[0m\u001b[1;32m      2\u001b[0m \u001b[0mT1\u001b[0m\u001b[0;34m.\u001b[0m\u001b[0mappend\u001b[0m\u001b[0;34m(\u001b[0m\u001b[0;36m50\u001b[0m\u001b[0;34m)\u001b[0m\u001b[0;34m\u001b[0m\u001b[0;34m\u001b[0m\u001b[0m\n\u001b[1;32m      3\u001b[0m \u001b[0mprint\u001b[0m\u001b[0;34m(\u001b[0m\u001b[0;34mf' tuple\\t: {T1}'\u001b[0m\u001b[0;34m)\u001b[0m\u001b[0;34m\u001b[0m\u001b[0;34m\u001b[0m\u001b[0m\n",
            "\u001b[0;31mAttributeError\u001b[0m: 'tuple' object has no attribute 'append'"
          ]
        }
      ]
    },
    {
      "cell_type": "code",
      "source": [
        "#tidak dapat menghapus elemen\n",
        "T1 = (1, 'dua', True, 1+2j)\n",
        "print(f' tuple\\t: {T1}')"
      ],
      "metadata": {
        "id": "F4GvY2Ltg7SO",
        "colab": {
          "base_uri": "https://localhost:8080/"
        },
        "outputId": "976dd748-306f-457b-e955-5bde773f96ec"
      },
      "execution_count": 32,
      "outputs": [
        {
          "output_type": "stream",
          "name": "stdout",
          "text": [
            " tuple\t: (1, 'dua', True, (1+2j))\n"
          ]
        }
      ]
    },
    {
      "cell_type": "code",
      "source": [
        "T1.remove(1)\n",
        "T1.remove('dua')\n",
        "print(f' tuple\\t: {T1}')\n"
      ],
      "metadata": {
        "id": "Wh2ohWehhDnH",
        "colab": {
          "base_uri": "https://localhost:8080/",
          "height": 200
        },
        "outputId": "c6c016dc-8f68-4ee3-e9d4-da6135a3bb76"
      },
      "execution_count": 33,
      "outputs": [
        {
          "output_type": "error",
          "ename": "AttributeError",
          "evalue": "ignored",
          "traceback": [
            "\u001b[0;31m---------------------------------------------------------------------------\u001b[0m",
            "\u001b[0;31mAttributeError\u001b[0m                            Traceback (most recent call last)",
            "\u001b[0;32m<ipython-input-33-b249e70936b8>\u001b[0m in \u001b[0;36m<cell line: 1>\u001b[0;34m()\u001b[0m\n\u001b[0;32m----> 1\u001b[0;31m \u001b[0mT1\u001b[0m\u001b[0;34m.\u001b[0m\u001b[0mremove\u001b[0m\u001b[0;34m(\u001b[0m\u001b[0;36m1\u001b[0m\u001b[0;34m)\u001b[0m\u001b[0;34m\u001b[0m\u001b[0;34m\u001b[0m\u001b[0m\n\u001b[0m\u001b[1;32m      2\u001b[0m \u001b[0mT1\u001b[0m\u001b[0;34m.\u001b[0m\u001b[0mremove\u001b[0m\u001b[0;34m(\u001b[0m\u001b[0;34m'dua'\u001b[0m\u001b[0;34m)\u001b[0m\u001b[0;34m\u001b[0m\u001b[0;34m\u001b[0m\u001b[0m\n\u001b[1;32m      3\u001b[0m \u001b[0mprint\u001b[0m\u001b[0;34m(\u001b[0m\u001b[0;34mf' tuple\\t: {T1}'\u001b[0m\u001b[0;34m)\u001b[0m\u001b[0;34m\u001b[0m\u001b[0;34m\u001b[0m\u001b[0m\n",
            "\u001b[0;31mAttributeError\u001b[0m: 'tuple' object has no attribute 'remove'"
          ]
        }
      ]
    },
    {
      "cell_type": "markdown",
      "source": [
        "###Menggabungkan Tuple"
      ],
      "metadata": {
        "id": "6rns50_chHHA"
      }
    },
    {
      "cell_type": "code",
      "source": [
        "#Menggabungkan tuple\n",
        "T3 = T1 +T2\n",
        "T3\n"
      ],
      "metadata": {
        "id": "UG1R8E26hKII",
        "colab": {
          "base_uri": "https://localhost:8080/"
        },
        "outputId": "aac276ec-4601-4bdf-8c56-48f0bc02eff3"
      },
      "execution_count": 36,
      "outputs": [
        {
          "output_type": "execute_result",
          "data": {
            "text/plain": [
              "(1, 'dua', True, (1+2j), 3, 2.4, True, 2.4)"
            ]
          },
          "metadata": {},
          "execution_count": 36
        }
      ]
    },
    {
      "cell_type": "code",
      "source": [],
      "metadata": {
        "id": "uXjDk6aChUzQ"
      },
      "execution_count": null,
      "outputs": []
    },
    {
      "cell_type": "markdown",
      "source": [
        "###**Latihan**"
      ],
      "metadata": {
        "id": "YkdPayJ6hRPa"
      }
    },
    {
      "cell_type": "code",
      "source": [
        "T12 = (not False, 6, 7.4, 'kiwi')\n",
        "print(T12)"
      ],
      "metadata": {
        "id": "abBv6_9BhWyi",
        "colab": {
          "base_uri": "https://localhost:8080/"
        },
        "outputId": "576409c7-52b6-4993-c9e2-2266c7da15a8"
      },
      "execution_count": 38,
      "outputs": [
        {
          "output_type": "stream",
          "name": "stdout",
          "text": [
            "(True, 6, 7.4, 'kiwi')\n"
          ]
        }
      ]
    },
    {
      "cell_type": "markdown",
      "source": [
        "###**Latihan 2**"
      ],
      "metadata": {
        "id": "AqGzoZAHhXeV"
      }
    },
    {
      "cell_type": "code",
      "source": [
        "T22 = ('lima', 2+5j, not True, 2)\n",
        "print(T22)\n",
        "\n",
        "T23 = T12 + T22\n",
        "T23"
      ],
      "metadata": {
        "id": "Ke9FZFLOhaw9",
        "colab": {
          "base_uri": "https://localhost:8080/"
        },
        "outputId": "af2c6614-f84d-4d42-f145-1cbe4e2f7c8d"
      },
      "execution_count": 41,
      "outputs": [
        {
          "output_type": "stream",
          "name": "stdout",
          "text": [
            "('lima', (2+5j), False, 2)\n"
          ]
        },
        {
          "output_type": "execute_result",
          "data": {
            "text/plain": [
              "(True, 6, 7.4, 'kiwi', 'lima', (2+5j), False, 2)"
            ]
          },
          "metadata": {},
          "execution_count": 41
        }
      ]
    }
  ]
}