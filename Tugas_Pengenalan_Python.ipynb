{
  "nbformat": 4,
  "nbformat_minor": 0,
  "metadata": {
    "colab": {
      "provenance": []
    },
    "kernelspec": {
      "name": "python3",
      "display_name": "Python 3"
    },
    "language_info": {
      "name": "python"
    }
  },
  "cells": [
    {
      "cell_type": "markdown",
      "source": [
        "# Pengenalan Python\n",
        "Python adalah Bahasa pemrograman tingkat tinggi dengan dynamic semantics bersifat object oriented, dan interpretatif. Bahasa pemrograman ini fokus dikembangkan pada keterbacaan bahasa pemrograman.\n",
        "1. **Bahasa Pemrograman Tingkat Tinggi (High Level Programming)** Artinya sintaks kode lebih mudah ditafsirkan oleh manusia.\n",
        "2. **Interpretatif** Ini artinya bahasa ini memerlukan intrepeter atau penerjemah. Ini memungkinkan kita untuk menggunakan Bahasa yang lebih mudah kita pahami.\n",
        "3. **Object Oriented** Ini berarti bahwa bahasa pemrograman ini berorientasi kepada objek. Hal ini membuat Python lebih mudah untuk dikembangkan.\n",
        "4. **Dynamic Semantic** Python secara otomatis akan menyesuaikan tipe dari suatu variable berdasarkan inputnya.\n"
      ],
      "metadata": {
        "id": "ihTfZ4uyVZ7Y"
      }
    },
    {
      "cell_type": "markdown",
      "source": [
        "# Mengapa Python\n",
        "1. Mudah dipahami\n",
        "2. Grafis & Open Source\n",
        "3. Dinamis\n",
        "4. Memiliki Library Terlengkap untuk Data Sains\n"
      ],
      "metadata": {
        "id": "HxDVcZW0YrFg"
      }
    },
    {
      "cell_type": "markdown",
      "source": [
        "# Struktur Program Pada Python\n",
        "Python pada umumnya terdiri dari :\n",
        "1. **Statement**"
      ],
      "metadata": {
        "id": "fghlp5ayYv-y"
      }
    },
    {
      "cell_type": "code",
      "execution_count": 8,
      "metadata": {
        "colab": {
          "base_uri": "https://localhost:8080/"
        },
        "id": "RvxLnvE4KTb3",
        "outputId": "1d5c0889-52ba-4e00-9161-29c20053f426"
      },
      "outputs": [
        {
          "output_type": "stream",
          "name": "stdout",
          "text": [
            "belajar Python menyenangkan\n",
            "halo dunia\n"
          ]
        }
      ],
      "source": [
        "print(\"belajar Python menyenangkan\")\n",
        "print(\"halo dunia\")\n"
      ]
    },
    {
      "cell_type": "markdown",
      "source": [
        "2. **Variables**\n"
      ],
      "metadata": {
        "id": "danQu1iyXnID"
      }
    },
    {
      "cell_type": "code",
      "source": [
        "bilangan1 = 5\n",
        "bilangan2 = 10\n",
        "kalimat = \"Pejuang Data 3\""
      ],
      "metadata": {
        "id": "CKzjbN_yXunx"
      },
      "execution_count": 2,
      "outputs": []
    },
    {
      "cell_type": "markdown",
      "source": [
        "3. **Literals** : Simbol-simbol yang dapat kita gunakan untuk mengisi suatu variable.\n",
        "4. **Operators** : Simbol-simbol yang dapat digunakan untuk mengubah nilai dari satu variable\n",
        "dengan melibatkan satu atau lebih variable dan literal"
      ],
      "metadata": {
        "id": "KAdWNIYGX0Iv"
      }
    },
    {
      "cell_type": "code",
      "source": [
        "bilangan1 + bilangan2"
      ],
      "metadata": {
        "colab": {
          "base_uri": "https://localhost:8080/"
        },
        "id": "_lYV92AIX6gx",
        "outputId": "3f2c357a-479d-426a-add2-610570f0b5f4"
      },
      "execution_count": 3,
      "outputs": [
        {
          "output_type": "execute_result",
          "data": {
            "text/plain": [
              "15"
            ]
          },
          "metadata": {},
          "execution_count": 3
        }
      ]
    },
    {
      "cell_type": "markdown",
      "source": [
        "5. **Reserved Words** : Kumpulan kata-kata yang memiliki makna khusus dalam bahasa\n",
        "pemrograman Python. Kata false , return , dan for merupakan contoh dari reserved\n",
        "words.\n",
        "6. **Whitespace** : Pada bahasa Python, spasi dan tab memiliki makna khusus untuk menandai\n",
        "serangkaian blok dalam kode Python.\n",
        "7. **Comments** : Comments merupakan sekumpulan teks yang dituliskan di dalam sebuah\n",
        "program yang tidak akan mempengaruhi hasil dari sebuah pemrograman.\n"
      ],
      "metadata": {
        "id": "u6_tszYjYCWa"
      }
    },
    {
      "cell_type": "markdown",
      "source": [
        "Terdapat dua jenis comments di dalam Python, yaitu :\n",
        "\n",
        "a. single line comment (comments dalam satu baris) seperti contoh berikut :"
      ],
      "metadata": {
        "id": "jigYFv72Zz8R"
      }
    },
    {
      "cell_type": "code",
      "source": [
        "# Ini adalah Comment\n",
        "print(\"belajar Python\")"
      ],
      "metadata": {
        "colab": {
          "base_uri": "https://localhost:8080/"
        },
        "id": "xajfelNuYKmy",
        "outputId": "0f4fcebd-db78-4b36-be19-a8fc62484d63"
      },
      "execution_count": 6,
      "outputs": [
        {
          "output_type": "stream",
          "name": "stdout",
          "text": [
            "belajar Python\n"
          ]
        }
      ]
    },
    {
      "cell_type": "markdown",
      "source": [
        "b. multi line comment (comments dalam beberapa baris) yang dapat dilakukan\n",
        "seperti pada contoh berikut :"
      ],
      "metadata": {
        "id": "q3tgYqKuYPJF"
      }
    },
    {
      "cell_type": "code",
      "source": [
        "'''\n",
        "Ini adalah komentar panjang\n",
        "Bisa digunakan untuk memberikan penjelasan\n",
        "panjang pada Sell Kode Python,\n",
        "Misal dokumentasi program, spesifikasi\n",
        "input output atau lainnya\n",
        "'''\n",
        "print('Belajar Python menyenangkan')"
      ],
      "metadata": {
        "colab": {
          "base_uri": "https://localhost:8080/"
        },
        "id": "y5dEUyMdYTZn",
        "outputId": "c141cbb9-8f4f-4c42-fc2e-8e2a4b919c64"
      },
      "execution_count": 7,
      "outputs": [
        {
          "output_type": "stream",
          "name": "stdout",
          "text": [
            "Belajar Python menyenangkan\n"
          ]
        }
      ]
    }
  ]
}